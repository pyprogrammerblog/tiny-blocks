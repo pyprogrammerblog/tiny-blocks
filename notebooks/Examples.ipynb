{
 "cells": [
  {
   "cell_type": "markdown",
   "id": "f6c4ebe0",
   "metadata": {
    "pycharm": {
     "name": "#%% md\n"
    }
   },
   "source": [
    "## Tiny Blocks Examples"
   ]
  },
  {
   "cell_type": "code",
   "execution_count": 1,
   "id": "1899280e",
   "metadata": {
    "pycharm": {
     "name": "#%%\n"
    }
   },
   "outputs": [
    {
     "ename": "ImportError",
     "evalue": "cannot import name 'add_mocked_data' from 'tests.conftest' (/code/tests/conftest.py)",
     "output_type": "error",
     "traceback": [
      "\u001B[0;31m---------------------------------------------------------------------------\u001B[0m",
      "\u001B[0;31mImportError\u001B[0m                               Traceback (most recent call last)",
      "Input \u001B[0;32mIn [1]\u001B[0m, in \u001B[0;36m<cell line: 19>\u001B[0;34m()\u001B[0m\n\u001B[1;32m     16\u001B[0m \u001B[38;5;28;01mfrom\u001B[39;00m \u001B[38;5;21;01mtiny_blocks\u001B[39;00m \u001B[38;5;28;01mimport\u001B[39;00m FanIn, FanOut, Tee\n\u001B[1;32m     18\u001B[0m \u001B[38;5;66;03m# mock data\u001B[39;00m\n\u001B[0;32m---> 19\u001B[0m \u001B[38;5;28;01mfrom\u001B[39;00m \u001B[38;5;21;01mtests\u001B[39;00m\u001B[38;5;21;01m.\u001B[39;00m\u001B[38;5;21;01mconftest\u001B[39;00m \u001B[38;5;28;01mimport\u001B[39;00m add_mocked_data\n\u001B[1;32m     20\u001B[0m \u001B[38;5;28;01mfrom\u001B[39;00m \u001B[38;5;21;01mtests\u001B[39;00m\u001B[38;5;21;01m.\u001B[39;00m\u001B[38;5;21;01mconftest\u001B[39;00m \u001B[38;5;28;01mimport\u001B[39;00m delete_mocked_data\n\u001B[1;32m     22\u001B[0m \u001B[38;5;28;01mimport\u001B[39;00m \u001B[38;5;21;01mpandas\u001B[39;00m \u001B[38;5;28;01mas\u001B[39;00m \u001B[38;5;21;01mpd\u001B[39;00m\n",
      "\u001B[0;31mImportError\u001B[0m: cannot import name 'add_mocked_data' from 'tests.conftest' (/code/tests/conftest.py)"
     ]
    }
   ],
   "source": [
    "# extract blocks\n",
    "from tiny_blocks.extract import FromCSV\n",
    "from tiny_blocks.extract import FromSQLQuery\n",
    "\n",
    "# transform blocks \n",
    "from tiny_blocks.transform import DropDuplicates\n",
    "from tiny_blocks.transform import Fillna\n",
    "from tiny_blocks.transform import Rename\n",
    "from tiny_blocks.transform import Merge\n",
    "\n",
    "# load blocks\n",
    "from tiny_blocks.load import ToCSV\n",
    "from tiny_blocks.load import ToSQL\n",
    "\n",
    "# pipeline operations\n",
    "from tiny_blocks import FanIn, FanOut, Tee\n",
    "\n",
    "# mock data\n",
    "from tests.conftest import add_mocked_data\n",
    "from tests.conftest import delete_mocked_data\n",
    "\n",
    "import pandas as pd"
   ]
  },
  {
   "cell_type": "code",
   "execution_count": null,
   "id": "19ca778a",
   "metadata": {
    "pycharm": {
     "name": "#%%\n"
    }
   },
   "outputs": [],
   "source": [
    "add_mocked_data()"
   ]
  },
  {
   "cell_type": "markdown",
   "id": "8f592534",
   "metadata": {
    "pycharm": {
     "name": "#%% md\n"
    }
   },
   "source": [
    "### Example 1. Basic Pipeline "
   ]
  },
  {
   "cell_type": "raw",
   "id": "f7dd6815",
   "metadata": {
    "pycharm": {
     "name": "#%% raw\n"
    }
   },
   "source": [
    "'''\n",
    "Read from SQL -> Fill Null -> Drop Duplicates -> Write to CSV\n",
    "'''"
   ]
  },
  {
   "cell_type": "code",
   "execution_count": null,
   "id": "d97ed38b",
   "metadata": {
    "pycharm": {
     "name": "#%%\n"
    }
   },
   "outputs": [],
   "source": [
    "# extract blocks\n",
    "from_sql = FromSQL(path=)\n",
    "\n",
    "# transform blocks\n",
    "fillna = Fillna(value=\"Hola Mundo\")\n",
    "drop_duplicates = DropDuplicates()\n",
    "\n",
    "# load blocks\n",
    "to_csv = ToCSV(path)"
   ]
  },
  {
   "cell_type": "code",
   "execution_count": null,
   "id": "4c272aa1",
   "metadata": {
    "pycharm": {
     "name": "#%%\n"
    }
   },
   "outputs": [],
   "source": [
    "# pipeline\n",
    "\n",
    "from_sql >> fillna >> drop_duplicates >> to_csv"
   ]
  },
  {
   "cell_type": "code",
   "execution_count": null,
   "id": "ac58e703",
   "metadata": {
    "pycharm": {
     "name": "#%%\n"
    }
   },
   "outputs": [],
   "source": [
    "# check if results exist\n",
    "\n",
    "df = pd.read_csv(to_csv.path)\n",
    "df"
   ]
  },
  {
   "cell_type": "markdown",
   "id": "ed674869",
   "metadata": {
    "pycharm": {
     "name": "#%% md\n"
    }
   },
   "source": [
    "### Example 2. Merging Pipes"
   ]
  },
  {
   "cell_type": "raw",
   "id": "73a65071",
   "metadata": {
    "pycharm": {
     "name": "#%% raw\n"
    }
   },
   "source": [
    "'''\n",
    "read SQL -> FillNull -|\n",
    "                      |-> Merge -> Drop Duplicates -> Write to CSV\n",
    "read CSV -------------|\n",
    "'''"
   ]
  },
  {
   "cell_type": "code",
   "execution_count": null,
   "id": "842a7b09",
   "metadata": {
    "pycharm": {
     "name": "#%%\n"
    }
   },
   "outputs": [],
   "source": [
    "# create blocks\n",
    "merge = Merge()\n",
    "to_csv = ToCSV(path)"
   ]
  },
  {
   "cell_type": "code",
   "execution_count": null,
   "id": "8f4d4cf5",
   "metadata": {
    "pycharm": {
     "name": "#%%\n"
    }
   },
   "outputs": [],
   "source": [
    "# pipeline\n",
    "\n",
    "FanIn(from_sql >> fillna, from_csv) >> merge >> drop_duplicates >> to_csv"
   ]
  },
  {
   "cell_type": "code",
   "execution_count": null,
   "id": "bf1f74f7",
   "metadata": {
    "pycharm": {
     "name": "#%%\n"
    }
   },
   "outputs": [],
   "source": [
    "# check if results exist\n",
    "\n",
    "df = pd.read_csv(to_csv.path)\n",
    "df"
   ]
  },
  {
   "cell_type": "markdown",
   "id": "56845962",
   "metadata": {
    "pycharm": {
     "name": "#%% md\n"
    }
   },
   "source": [
    "### Example 3. FanOut"
   ]
  },
  {
   "cell_type": "raw",
   "id": "dbfba4bc",
   "metadata": {
    "pycharm": {
     "name": "#%% raw\n"
    }
   },
   "source": [
    "'''\n",
    "read SQL -> FillNull -> | -> Drop Duplicates -> Rename columns -> Write to CSV\n",
    "                        |\n",
    "                        | -> Write to SQL\n",
    "'''"
   ]
  },
  {
   "cell_type": "code",
   "execution_count": null,
   "id": "ebd887fb",
   "metadata": {
    "pycharm": {
     "name": "#%%\n"
    }
   },
   "outputs": [],
   "source": []
  },
  {
   "cell_type": "code",
   "execution_count": null,
   "id": "5503a268",
   "metadata": {
    "pycharm": {
     "name": "#%%\n"
    }
   },
   "outputs": [],
   "source": [
    "# pipeline\n",
    "\n",
    "from_sql >> fillna >> FanOut(to_sql) >> rename >> to_csv"
   ]
  },
  {
   "cell_type": "code",
   "execution_count": null,
   "id": "8a48f3a0",
   "metadata": {
    "pycharm": {
     "name": "#%%\n"
    }
   },
   "outputs": [],
   "source": [
    "# check if results exist\n",
    "\n",
    "df = pd.read_csv(to_csv.path)\n",
    "df"
   ]
  },
  {
   "cell_type": "markdown",
   "id": "6345ae0c",
   "metadata": {
    "pycharm": {
     "name": "#%% md\n"
    }
   },
   "source": [
    "### Example 4. Branching with Tee"
   ]
  },
  {
   "cell_type": "raw",
   "id": "8ba0b60b",
   "metadata": {
    "pycharm": {
     "name": "#%% raw\n"
    }
   },
   "source": [
    "'''\n",
    "                        | -> Drop Duplicates -> Write to CSV\n",
    "read SQL -> FillNull -> |\n",
    "                        | -> Rename columns -> Write to SQL\n",
    "'''"
   ]
  },
  {
   "cell_type": "code",
   "execution_count": null,
   "id": "3ad0a00d",
   "metadata": {
    "pycharm": {
     "name": "#%%\n"
    }
   },
   "outputs": [],
   "source": []
  },
  {
   "cell_type": "code",
   "execution_count": null,
   "id": "b6646e00",
   "metadata": {
    "pycharm": {
     "name": "#%%\n"
    }
   },
   "outputs": [],
   "source": [
    "# pipeline\n",
    "\n",
    "pipe_1 = drop_dupl >> to_csv\n",
    "pipe_2 = rename >> to_sql\n",
    "\n",
    "from_sql >> fillna >> Tee(pipe_1, pipe_2)\n",
    "\n",
    "# # same as\n",
    "# from_sql >> fillna >> Tee(drop_dupl >> to_csv, rename >> to_sql)"
   ]
  },
  {
   "cell_type": "code",
   "execution_count": null,
   "id": "5f120226",
   "metadata": {
    "pycharm": {
     "name": "#%%\n"
    }
   },
   "outputs": [],
   "source": [
    "# check if results exist\n",
    "\n",
    "df = pd.read_csv(to_csv.path)\n",
    "df"
   ]
  },
  {
   "cell_type": "code",
   "execution_count": null,
   "id": "b949babf",
   "metadata": {
    "pycharm": {
     "name": "#%%\n"
    }
   },
   "outputs": [],
   "source": []
  },
  {
   "cell_type": "code",
   "execution_count": null,
   "id": "56c39b3b",
   "metadata": {
    "pycharm": {
     "name": "#%%\n"
    }
   },
   "outputs": [],
   "source": [
    "# tear down dbs and files"
   ]
  },
  {
   "cell_type": "code",
   "execution_count": null,
   "id": "1dfa9233",
   "metadata": {
    "pycharm": {
     "name": "#%%\n"
    }
   },
   "outputs": [],
   "source": [
    "delete_mocked_data()"
   ]
  }
 ],
 "metadata": {
  "kernelspec": {
   "display_name": "Python 3 (ipykernel)",
   "language": "python",
   "name": "python3"
  },
  "language_info": {
   "codemirror_mode": {
    "name": "ipython",
    "version": 3
   },
   "file_extension": ".py",
   "mimetype": "text/x-python",
   "name": "python",
   "nbconvert_exporter": "python",
   "pygments_lexer": "ipython3",
   "version": "3.10.2"
  }
 },
 "nbformat": 4,
 "nbformat_minor": 5
}
