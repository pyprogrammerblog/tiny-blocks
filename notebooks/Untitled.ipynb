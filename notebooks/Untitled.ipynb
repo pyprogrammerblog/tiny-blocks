{
 "cells": [
  {
   "cell_type": "markdown",
   "id": "d839f222",
   "metadata": {},
   "source": [
    "## Tiny Blocks Examples"
   ]
  },
  {
   "cell_type": "code",
   "execution_count": 32,
   "id": "a50e39bc",
   "metadata": {},
   "outputs": [],
   "source": [
    "# extract blocks\n",
    "from tiny_blocks.extract import FromCSV\n",
    "from tiny_blocks.extract import FromSQLQuery\n",
    "\n",
    "# transform blocks \n",
    "from tiny_blocks.transform import DropDuplicates\n",
    "from tiny_blocks.transform import Fillna\n",
    "from tiny_blocks.transform import Rename\n",
    "from tiny_blocks.transform import Merge\n",
    "\n",
    "# load blocks\n",
    "from tiny_blocks.load import ToCSV\n",
    "from tiny_blocks.load import ToSQL\n",
    "\n",
    "# pipeline operations\n",
    "from tiny_blocks import FanIn, FanOut, Tee\n",
    "\n",
    "import pandas as pd"
   ]
  },
  {
   "cell_type": "markdown",
   "id": "243d7698",
   "metadata": {},
   "source": [
    "### Example 1. Basic Pipeline "
   ]
  },
  {
   "cell_type": "raw",
   "id": "bdfe0351",
   "metadata": {},
   "source": [
    "'''\n",
    "Read from SQL -> Fill Null -> Drop Duplicates -> Write to CSV\n",
    "'''"
   ]
  },
  {
   "cell_type": "code",
   "execution_count": null,
   "id": "94336531",
   "metadata": {},
   "outputs": [],
   "source": [
    "# create blocks\n",
    "\n",
    "from_sql = FromSQL(path=)\n",
    "fillna = Fillna(value=\"Hola Mundo\")\n",
    "drop_duplicates = DropDuplicates()\n",
    "to_csv = ToCSV(path)"
   ]
  },
  {
   "cell_type": "code",
   "execution_count": null,
   "id": "2df635a8",
   "metadata": {},
   "outputs": [],
   "source": [
    "# pipeline\n",
    "\n",
    "from_sql >> fillna >> drop_duplicates >> to_csv"
   ]
  },
  {
   "cell_type": "code",
   "execution_count": null,
   "id": "4a1177d8",
   "metadata": {},
   "outputs": [],
   "source": [
    "# check if results exist\n",
    "\n",
    "df = pd.read_csv(to_csv.path)\n",
    "df"
   ]
  },
  {
   "cell_type": "markdown",
   "id": "c10d8837",
   "metadata": {},
   "source": [
    "### Example 2. Merging Pipes"
   ]
  },
  {
   "cell_type": "raw",
   "id": "97538aa2",
   "metadata": {},
   "source": [
    "'''\n",
    "read SQL -> FillNull -|\n",
    "                      |-> Merge -> Drop Duplicates -> Write to CSV\n",
    "read CSV -------------|\n",
    "'''"
   ]
  },
  {
   "cell_type": "code",
   "execution_count": null,
   "id": "9d0342f6",
   "metadata": {},
   "outputs": [],
   "source": [
    "# create blocks\n",
    "merge = Merge()\n",
    "to_csv = ToCSV(path)"
   ]
  },
  {
   "cell_type": "code",
   "execution_count": null,
   "id": "8f5f96e8",
   "metadata": {},
   "outputs": [],
   "source": [
    "# pipeline\n",
    "\n",
    "FanIn(from_sql >> fillna, from_csv) >> merge >> drop_duplicates >> to_csv"
   ]
  },
  {
   "cell_type": "code",
   "execution_count": null,
   "id": "4b2e5ced",
   "metadata": {},
   "outputs": [],
   "source": [
    "# check if results exist\n",
    "\n",
    "df = pd.read_csv(to_csv.path)\n",
    "df"
   ]
  },
  {
   "cell_type": "markdown",
   "id": "704dbb79",
   "metadata": {},
   "source": [
    "### Example 3. FanOut"
   ]
  },
  {
   "cell_type": "raw",
   "id": "9f1ed8f7",
   "metadata": {},
   "source": [
    "'''\n",
    "read SQL -> FillNull -> | -> Drop Duplicates -> Rename columns -> Write to CSV\n",
    "                        |\n",
    "                        | -> Write to SQL\n",
    "'''"
   ]
  },
  {
   "cell_type": "code",
   "execution_count": null,
   "id": "a048fd2d",
   "metadata": {},
   "outputs": [],
   "source": []
  },
  {
   "cell_type": "code",
   "execution_count": null,
   "id": "e9a276ba",
   "metadata": {},
   "outputs": [],
   "source": [
    "# pipeline\n",
    "\n",
    "from_sql >> fillna >> FanOut(to_sql) >> rename >> to_csv"
   ]
  },
  {
   "cell_type": "code",
   "execution_count": null,
   "id": "9fd35a07",
   "metadata": {},
   "outputs": [],
   "source": [
    "# check if results exist\n",
    "\n",
    "df = pd.read_csv(to_csv.path)\n",
    "df"
   ]
  },
  {
   "cell_type": "markdown",
   "id": "875cac45",
   "metadata": {},
   "source": [
    "### Example 4. Branching with Tee"
   ]
  },
  {
   "cell_type": "raw",
   "id": "e8d65caf",
   "metadata": {},
   "source": [
    "'''\n",
    "                        | -> Drop Duplicates -> Write to CSV\n",
    "read SQL -> FillNull -> |\n",
    "                        | -> Rename columns -> Write to SQL\n",
    "'''"
   ]
  },
  {
   "cell_type": "code",
   "execution_count": null,
   "id": "4a39d697",
   "metadata": {},
   "outputs": [],
   "source": []
  },
  {
   "cell_type": "code",
   "execution_count": null,
   "id": "bc215a4f",
   "metadata": {},
   "outputs": [],
   "source": [
    "# pipeline\n",
    "\n",
    "pipe_1 = drop_dupl >> to_csv\n",
    "pipe_2 = rename >> to_sql\n",
    "\n",
    "from_sql >> fillna >> Tee(pipe_1, pipe_2)\n",
    "\n",
    "# # same as\n",
    "# from_sql >> fillna >> Tee(drop_dupl >> to_csv, rename >> to_sql)"
   ]
  },
  {
   "cell_type": "code",
   "execution_count": null,
   "id": "78db647a",
   "metadata": {},
   "outputs": [],
   "source": [
    "# check if results exist\n",
    "\n",
    "df = pd.read_csv(to_csv.path)\n",
    "df"
   ]
  },
  {
   "cell_type": "code",
   "execution_count": null,
   "id": "aaad6607",
   "metadata": {},
   "outputs": [],
   "source": []
  },
  {
   "cell_type": "code",
   "execution_count": null,
   "id": "c9af7c6d",
   "metadata": {},
   "outputs": [],
   "source": []
  },
  {
   "cell_type": "code",
   "execution_count": null,
   "id": "f607a992",
   "metadata": {},
   "outputs": [],
   "source": []
  },
  {
   "cell_type": "code",
   "execution_count": null,
   "id": "f2fc281d",
   "metadata": {},
   "outputs": [],
   "source": []
  },
  {
   "cell_type": "code",
   "execution_count": null,
   "id": "7ffc4281",
   "metadata": {},
   "outputs": [],
   "source": []
  },
  {
   "cell_type": "code",
   "execution_count": null,
   "id": "93e793fc",
   "metadata": {},
   "outputs": [],
   "source": []
  },
  {
   "cell_type": "code",
   "execution_count": null,
   "id": "e4f067b9",
   "metadata": {},
   "outputs": [],
   "source": [
    "# tear down dbs and files"
   ]
  }
 ],
 "metadata": {
  "kernelspec": {
   "display_name": "Python 3 (ipykernel)",
   "language": "python",
   "name": "python3"
  },
  "language_info": {
   "codemirror_mode": {
    "name": "ipython",
    "version": 3
   },
   "file_extension": ".py",
   "mimetype": "text/x-python",
   "name": "python",
   "nbconvert_exporter": "python",
   "pygments_lexer": "ipython3",
   "version": "3.10.2"
  }
 },
 "nbformat": 4,
 "nbformat_minor": 5
}
